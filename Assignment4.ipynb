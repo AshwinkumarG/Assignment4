{
  "nbformat": 4,
  "nbformat_minor": 0,
  "metadata": {
    "colab": {
      "name": "Assignment4.ipynb",
      "provenance": [],
      "authorship_tag": "ABX9TyNH0sbTEPKSSgB56QvIzw+n",
      "include_colab_link": true
    },
    "kernelspec": {
      "name": "python3",
      "display_name": "Python 3"
    }
  },
  "cells": [
    {
      "cell_type": "markdown",
      "metadata": {
        "id": "view-in-github",
        "colab_type": "text"
      },
      "source": [
        "<a href=\"https://colab.research.google.com/github/AshwinkumarG/Assignment4/blob/master/Assignment4.ipynb\" target=\"_parent\"><img src=\"https://colab.research.google.com/assets/colab-badge.svg\" alt=\"Open In Colab\"/></a>"
      ]
    },
    {
      "cell_type": "markdown",
      "metadata": {
        "id": "RMLBAuilcICJ",
        "colab_type": "text"
      },
      "source": [
        "1)Function that returns first and last digit of a number."
      ]
    },
    {
      "cell_type": "code",
      "metadata": {
        "id": "8Mrto8lQbor5",
        "colab_type": "code",
        "colab": {
          "base_uri": "https://localhost:8080/",
          "height": 51
        },
        "outputId": "25a49e70-c925-4f4c-b541-d7517044c4b9"
      },
      "source": [
        "num=int(input(\"Enter the number:\"))\n",
        "def a(num):\n",
        "   while(num>=10):\n",
        "     num=num/10\n",
        "   return int(num)\n",
        "def z(num):\n",
        "    num=num%10\n",
        "    return num\n",
        "print(\"The first digit in the number is\",a(num),\"The last digit in the number is\",z(num)) "
      ],
      "execution_count": null,
      "outputs": [
        {
          "output_type": "stream",
          "text": [
            "Enter the number:234\n",
            "The first digit in the number is 2 The last digit in the number is 4\n"
          ],
          "name": "stdout"
        }
      ]
    },
    {
      "cell_type": "markdown",
      "metadata": {
        "id": "cA4sMU5JcAVh",
        "colab_type": "text"
      },
      "source": [
        "\n",
        "\n",
        "```\n",
        "2)Generate first N number of fibonacci numbers.take N value from user\n",
        "```\n",
        "\n"
      ]
    },
    {
      "cell_type": "code",
      "metadata": {
        "id": "V5-UgPvUeMHF",
        "colab_type": "code",
        "colab": {
          "base_uri": "https://localhost:8080/",
          "height": 153
        },
        "outputId": "398b311f-bfdd-4274-fb21-cb90da467f24"
      },
      "source": [
        "n=int(input(\"Lenght of fibonacci series\"))\n",
        "a=0\n",
        "b=1\n",
        "count=0\n",
        "if(n<=0):\n",
        "     print(\"error\")\n",
        "elif(n==1):\n",
        "     print(a) \n",
        "else:\n",
        "     print(\"The fibonacci series is\")\n",
        "     while count<n:\n",
        "        print(a)\n",
        "        c=a+b\n",
        "        a=b\n",
        "        b=c\n",
        "        count=count+1         "
      ],
      "execution_count": null,
      "outputs": [
        {
          "output_type": "stream",
          "text": [
            "Lenght of fibonacci series6\n",
            "The fibonacci series is\n",
            "0\n",
            "1\n",
            "1\n",
            "2\n",
            "3\n",
            "5\n"
          ],
          "name": "stdout"
        }
      ]
    },
    {
      "cell_type": "markdown",
      "metadata": {
        "id": "5-wuSjcQfcQ1",
        "colab_type": "text"
      },
      "source": [
        "3)Take N number of marks and names from user and display the names of failedstudents(marks<40).Take N value from user."
      ]
    },
    {
      "cell_type": "code",
      "metadata": {
        "id": "8tk_ITs1fvCD",
        "colab_type": "code",
        "colab": {
          "base_uri": "https://localhost:8080/",
          "height": 68
        },
        "outputId": "a7dbb7ca-28ca-43e7-9b3a-28541dcb049d"
      },
      "source": [
        "n=int(input(\"Enter number of students:\"))\n",
        "if(n>=0):\n",
        "   student=[\"member\"]   \n",
        "   for i in range(0,n):\n",
        "     name=input(\"Enter the name of student:\")\n",
        "     print(name)\n",
        "     mark=int(input(\"Enter the marks out of 100:\"))\n",
        "     print(mark)\n",
        "     if(mark<40):\n",
        "         student.append(name)\n",
        "         print(\"This student has failed\")\n",
        "     else:\n",
        "         print(\"You have passed\")\n",
        "   for i in range(1,len(student)):\n",
        "     print(student[i])\n",
        "else:\n",
        "  print(\"invalid input\")           "
      ],
      "execution_count": null,
      "outputs": [
        {
          "output_type": "stream",
          "text": [
            "ashwin\n",
            "88\n",
            "You have passed\n"
          ],
          "name": "stdout"
        }
      ]
    },
    {
      "cell_type": "markdown",
      "metadata": {
        "id": "2LiZoRzZhhM6",
        "colab_type": "text"
      },
      "source": [
        "4)Display multiplication table of K.Take K value from user."
      ]
    },
    {
      "cell_type": "code",
      "metadata": {
        "id": "sEX6Uh0GiUXQ",
        "colab_type": "code",
        "colab": {}
      },
      "source": [
        "n=int(input(\"Which multiplication table do you want?\"))\n",
        "for i in range(1,11):\n",
        " print(n,'x',i,'=',n*i)"
      ],
      "execution_count": null,
      "outputs": []
    },
    {
      "cell_type": "markdown",
      "metadata": {
        "id": "RqhL8g7Uis1O",
        "colab_type": "text"
      },
      "source": [
        "5)Take numbers from user until the number is -1 and display the product and average of all numbers."
      ]
    },
    {
      "cell_type": "code",
      "metadata": {
        "id": "gro7HgVei4_e",
        "colab_type": "code",
        "colab": {}
      },
      "source": [
        "sum=0\n",
        "c=0\n",
        "num=int(input(\"Enter the number:\"))\n",
        "while num=-1:\n",
        "  c=c+1\n",
        "  sum=sum+num\n",
        "  num=int(input())\n",
        "  print(sum/c)"
      ],
      "execution_count": null,
      "outputs": []
    }
  ]
}